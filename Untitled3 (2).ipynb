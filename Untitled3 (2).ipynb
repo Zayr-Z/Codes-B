{
 "cells": [
  {
   "cell_type": "code",
   "execution_count": 3,
   "id": "fe502223-8ba1-4b03-91ab-5482d7e0426d",
   "metadata": {},
   "outputs": [],
   "source": [
    "year = 2024"
   ]
  },
  {
   "cell_type": "code",
   "execution_count": 5,
   "id": "b1ca4dde-b8d3-48b8-90ce-e040dd02a300",
   "metadata": {},
   "outputs": [
    {
     "name": "stdout",
     "output_type": "stream",
     "text": [
      "2024\n"
     ]
    }
   ],
   "source": [
    "print(year)"
   ]
  },
  {
   "cell_type": "code",
   "execution_count": 10,
   "id": "65e4a84c-6e19-4c01-a18d-32f1c686d6f2",
   "metadata": {},
   "outputs": [],
   "source": [
    "#this instruction will not print beacuse of this symbol usage\n",
    "institution = \"ICTAK\""
   ]
  },
  {
   "cell_type": "code",
   "execution_count": 12,
   "id": "6eae03fd-3152-4171-afc6-529a55be1848",
   "metadata": {},
   "outputs": [
    {
     "name": "stdout",
     "output_type": "stream",
     "text": [
      "ICTAK\n"
     ]
    }
   ],
   "source": [
    "print(institution)"
   ]
  },
  {
   "cell_type": "code",
   "execution_count": null,
   "id": "95e6ecc1-797e-41c1-bd64-f96193938717",
   "metadata": {},
   "outputs": [],
   "source": [
    "###Comments"
   ]
  },
  {
   "cell_type": "code",
   "execution_count": 24,
   "id": "4bec9bdb-81a5-47fe-9303-43763aa3288b",
   "metadata": {
    "scrolled": true
   },
   "outputs": [
    {
     "data": {
      "text/plain": [
       "int"
      ]
     },
     "execution_count": 24,
     "metadata": {},
     "output_type": "execute_result"
    }
   ],
   "source": [
    "#we can chcek data type using builtin function\n",
    "type(5)"
   ]
  },
  {
   "cell_type": "code",
   "execution_count": 26,
   "id": "f87b0f5b-c5d3-4bfe-9b73-f1bd172fdd8c",
   "metadata": {},
   "outputs": [
    {
     "data": {
      "text/plain": [
       "float"
      ]
     },
     "execution_count": 26,
     "metadata": {},
     "output_type": "execute_result"
    }
   ],
   "source": [
    "type(5.5)"
   ]
  },
  {
   "cell_type": "code",
   "execution_count": 77,
   "id": "62cb4b0f-3adb-4217-ad89-be5e5de6bce7",
   "metadata": {},
   "outputs": [
    {
     "name": "stdout",
     "output_type": "stream",
     "text": [
      "2.2\n",
      "asd\n"
     ]
    }
   ],
   "source": [
    "d=1+1.2\n",
    "a=\"asd\"\n",
    "print(d)\n",
    "print(a)"
   ]
  },
  {
   "cell_type": "markdown",
   "id": "5dd72895-9072-4d29-8972-ea02ff3df2c4",
   "metadata": {},
   "source": [
    "#Sequence Types"
   ]
  },
  {
   "cell_type": "code",
   "execution_count": 89,
   "id": "b2cecfa1-0284-44f4-85b3-0266ce997bea",
   "metadata": {},
   "outputs": [
    {
     "name": "stdout",
     "output_type": "stream",
     "text": [
      "1\n",
      "o\n",
      "['a', 'e', 'i', 'x', 'u']\n"
     ]
    },
    {
     "ename": "NameError",
     "evalue": "name 'append' is not defined",
     "output_type": "error",
     "traceback": [
      "\u001b[1;31m---------------------------------------------------------------------------\u001b[0m",
      "\u001b[1;31mNameError\u001b[0m                                 Traceback (most recent call last)",
      "Cell \u001b[1;32mIn[89], line 8\u001b[0m\n\u001b[0;32m      6\u001b[0m \u001b[38;5;28mprint\u001b[39m(vowels)\n\u001b[0;32m      7\u001b[0m \u001b[38;5;28mlen\u001b[39m(vowels)\n\u001b[1;32m----> 8\u001b[0m append\u001b[38;5;241m.\u001b[39mvowels\u001b[38;5;241m=\u001b[39m\u001b[38;5;124m\"\u001b[39m\u001b[38;5;124my\u001b[39m\u001b[38;5;124m\"\u001b[39m\n",
      "\u001b[1;31mNameError\u001b[0m: name 'append' is not defined"
     ]
    }
   ],
   "source": [
    "digits =[0, 1, 2, 3, 4, 5, 6, 7, 8, 9]\n",
    "print(digits[1])\n",
    "vowels = ['a', 'e', 'i', 'o', 'u']\n",
    "print(vowels[3])\n",
    "vowels[3]=\"x\"\n",
    "print(vowels)\n",
    "len(vowels)\n"
   ]
  },
  {
   "cell_type": "code",
   "execution_count": 35,
   "id": "6b119ea2-bb6b-47f1-b63c-a45767af7afe",
   "metadata": {},
   "outputs": [
    {
     "data": {
      "text/plain": [
       "10"
      ]
     },
     "execution_count": 35,
     "metadata": {},
     "output_type": "execute_result"
    }
   ],
   "source": [
    "len(digits)"
   ]
  },
  {
   "cell_type": "code",
   "execution_count": 37,
   "id": "87b09a46-975d-42db-bbe2-f8027e9be6ba",
   "metadata": {},
   "outputs": [],
   "source": [
    "digits = [[1, 3, 5, 7, 9], [2, 4, 6, 8, 10]]"
   ]
  },
  {
   "cell_type": "code",
   "execution_count": 61,
   "id": "e7a61f73-8804-4e31-a71d-a1ee8cf83c8b",
   "metadata": {},
   "outputs": [],
   "source": [
    "grocery = [\"Apple\", 5, \"Orange\", 10]"
   ]
  },
  {
   "cell_type": "code",
   "execution_count": 63,
   "id": "aba8e877-2f66-431d-bbc4-c58c8069bfda",
   "metadata": {},
   "outputs": [],
   "source": [
    "grocery[0] = \"Grape\""
   ]
  },
  {
   "cell_type": "code",
   "execution_count": 65,
   "id": "841627e4-65b4-43ba-ba3d-e637f2c89d5b",
   "metadata": {},
   "outputs": [
    {
     "name": "stdout",
     "output_type": "stream",
     "text": [
      "['Grape', 5, 'Orange', 10]\n"
     ]
    }
   ],
   "source": [
    "print(grocery)"
   ]
  },
  {
   "cell_type": "markdown",
   "id": "7ab000f3-a109-4885-ac3e-2f46a9b5f146",
   "metadata": {},
   "source": [
    "#Tuple"
   ]
  },
  {
   "cell_type": "markdown",
   "id": "cfde5225-2926-49af-8943-7320286f41b8",
   "metadata": {},
   "source": [
    "##Tuples are immutable"
   ]
  },
  {
   "cell_type": "code",
   "execution_count": 95,
   "id": "618fd208-a904-4572-8791-80e739b115c9",
   "metadata": {},
   "outputs": [
    {
     "name": "stdout",
     "output_type": "stream",
     "text": [
      "(1, 2, 3, 4, 5)\n"
     ]
    }
   ],
   "source": [
    "tuple1 = (1, 2, 3, 4, 5)\n",
    "print(tuple1)"
   ]
  },
  {
   "cell_type": "markdown",
   "id": "69394bcc-1ed5-488b-afa8-8c4670c86cff",
   "metadata": {},
   "source": [
    "#RANGE"
   ]
  },
  {
   "cell_type": "markdown",
   "id": "ceff399c-9772-465a-858d-aea0ed8eaadb",
   "metadata": {},
   "source": [
    "##Range are immutable used to skip easily by our requirments"
   ]
  },
  {
   "cell_type": "code",
   "execution_count": 113,
   "id": "c2cf620d-95fd-426c-86d8-f534b0388ab8",
   "metadata": {},
   "outputs": [
    {
     "name": "stdout",
     "output_type": "stream",
     "text": [
      "[0, 2, 4, 6, 8]\n"
     ]
    }
   ],
   "source": [
    "#range(0, 10, 2)\n",
    "a = list(range(0, 10, 2))\n",
    "print(a)"
   ]
  },
  {
   "cell_type": "code",
   "execution_count": 115,
   "id": "64950d6b-b4ab-4337-848f-b1dc33735555",
   "metadata": {},
   "outputs": [
    {
     "name": "stdout",
     "output_type": "stream",
     "text": [
      "(0, 2, 4, 6, 8)\n"
     ]
    }
   ],
   "source": [
    "#range(0, 10, 2)\n",
    "a = tuple(range(0, 10, 2))\n",
    "print(a)"
   ]
  },
  {
   "cell_type": "markdown",
   "id": "04141766-b457-4743-9b2f-c63a4a1c903a",
   "metadata": {},
   "source": [
    "#Mapping Type"
   ]
  },
  {
   "cell_type": "markdown",
   "id": "fba58381-9800-4716-86a0-32daddb23906",
   "metadata": {},
   "source": [
    "##1. Dictionary"
   ]
  },
  {
   "cell_type": "code",
   "execution_count": 131,
   "id": "eb7a0a4f-0c30-4750-9b80-c2bcab5424cc",
   "metadata": {},
   "outputs": [],
   "source": [
    "data = {\n",
    "    \"institute\": \"ICTAK\",\n",
    "    \"City\": \"TVM\",\n",
    "    \"Location\": \"KZKTM\"\n",
    "}"
   ]
  },
  {
   "cell_type": "code",
   "execution_count": 133,
   "id": "b15d20ba-e768-4f86-949a-cf85d8c3ca5b",
   "metadata": {},
   "outputs": [
    {
     "name": "stdout",
     "output_type": "stream",
     "text": [
      "{'institute': 'ICTAK', 'City': 'TVM', 'Location': 'KZKTM'}\n"
     ]
    }
   ],
   "source": [
    "print(data)"
   ]
  },
  {
   "cell_type": "code",
   "execution_count": 135,
   "id": "ecfed3cd-1561-457a-8169-69854314c59a",
   "metadata": {},
   "outputs": [],
   "source": [
    "Contact = {\n",
    "    \"Name\": \"AXAE\",\n",
    "    \"SEX\": \"Male\",\n",
    "    \"Age\" : '29',\n",
    "    \"phone no\": '123456789'\n",
    "}"
   ]
  },
  {
   "cell_type": "code",
   "execution_count": 137,
   "id": "e21e29d0-c148-4e33-992d-ce4a399583e1",
   "metadata": {},
   "outputs": [
    {
     "name": "stdout",
     "output_type": "stream",
     "text": [
      "{'Name': 'AXAE', 'SEX': 'Male', 'Age': '29', 'phone no': '123456789'}\n"
     ]
    }
   ],
   "source": [
    "print(Contact)"
   ]
  },
  {
   "cell_type": "markdown",
   "id": "68c11920-3f86-48bf-98bc-631bd5d8f2e7",
   "metadata": {},
   "source": [
    "##if we need to add any data in variable \"data\""
   ]
  },
  {
   "cell_type": "code",
   "execution_count": 140,
   "id": "da12cccd-5453-4652-af07-28449f509906",
   "metadata": {},
   "outputs": [],
   "source": [
    "data[\"State\"] = \"Kerala\""
   ]
  },
  {
   "cell_type": "code",
   "execution_count": 142,
   "id": "6311db6c-cdd9-4ba2-b960-3de3a1268110",
   "metadata": {},
   "outputs": [
    {
     "name": "stdout",
     "output_type": "stream",
     "text": [
      "{'institute': 'ICTAK', 'City': 'TVM', 'Location': 'KZKTM', 'State': 'Kerala'}\n"
     ]
    }
   ],
   "source": [
    "print(data)"
   ]
  },
  {
   "cell_type": "code",
   "execution_count": 147,
   "id": "066a9f3a-767f-446b-b99c-fabd34a908e0",
   "metadata": {},
   "outputs": [
    {
     "data": {
      "text/plain": [
       "dict_keys(['institute', 'City', 'Location', 'State'])"
      ]
     },
     "execution_count": 147,
     "metadata": {},
     "output_type": "execute_result"
    }
   ],
   "source": [
    "#Accessing the values only from a dictionary\n",
    "data.keys()"
   ]
  },
  {
   "cell_type": "code",
   "execution_count": 149,
   "id": "99163876-7f43-4dd5-879f-e349eca6d627",
   "metadata": {},
   "outputs": [
    {
     "data": {
      "text/plain": [
       "dict_values(['ICTAK', 'TVM', 'KZKTM', 'Kerala'])"
      ]
     },
     "execution_count": 149,
     "metadata": {},
     "output_type": "execute_result"
    }
   ],
   "source": [
    "#Accessing the values only for a dictionary\n",
    "data.values()"
   ]
  },
  {
   "cell_type": "markdown",
   "id": "b0dd6780-a7c7-4463-8f74-11faf7fd9712",
   "metadata": {},
   "source": [
    "##TO access values or keys we can use the above method, type variable and dot then what we need values, keys or anything"
   ]
  },
  {
   "cell_type": "markdown",
   "id": "1330b77f-601a-4f74-bcd9-d41d222ef29a",
   "metadata": {},
   "source": [
    "#SET TYPE"
   ]
  },
  {
   "cell_type": "markdown",
   "id": "91d54583-3edc-48b4-8a5b-59d43613c2c5",
   "metadata": {},
   "source": [
    "#In pyhton a set is an unordered collection of unique items"
   ]
  },
  {
   "cell_type": "code",
   "execution_count": 156,
   "id": "79def263-df9d-4ea5-b77f-c014ec991c80",
   "metadata": {},
   "outputs": [
    {
     "name": "stdout",
     "output_type": "stream",
     "text": [
      "{1, 2, 3, 4, 5, 6, 7, 8, 9}\n"
     ]
    }
   ],
   "source": [
    "#Creating a set using\n",
    "my_set = {1, 2, 3, 4, 5, 6, 7, 8, 9, 8}\n",
    "print(my_set)"
   ]
  },
  {
   "cell_type": "code",
   "execution_count": 158,
   "id": "2a0ee7b2-a6d8-4ede-9742-418db8fd8644",
   "metadata": {},
   "outputs": [
    {
     "name": "stdout",
     "output_type": "stream",
     "text": [
      "{0, 1, 2, 8, 9}\n"
     ]
    }
   ],
   "source": [
    "num = {1, 1, 1, 8, 9, 8, 8, 2, 2, 0, 0}\n",
    "print(num)"
   ]
  },
  {
   "cell_type": "markdown",
   "id": "2eb1a0da-69bc-4ca9-93e8-5a3f6afcc5b6",
   "metadata": {},
   "source": [
    "#Boolean Type"
   ]
  },
  {
   "cell_type": "code",
   "execution_count": 161,
   "id": "36490074-b16f-4a5a-bd3b-ffa3e5241a2f",
   "metadata": {},
   "outputs": [
    {
     "name": "stdout",
     "output_type": "stream",
     "text": [
      "False\n"
     ]
    }
   ],
   "source": [
    "print(10>20)"
   ]
  },
  {
   "cell_type": "code",
   "execution_count": 163,
   "id": "19f4fde8-186c-44bf-8a21-a589cc7efbc8",
   "metadata": {},
   "outputs": [
    {
     "data": {
      "text/plain": [
       "True"
      ]
     },
     "execution_count": 163,
     "metadata": {},
     "output_type": "execute_result"
    }
   ],
   "source": [
    "3 == 3.0"
   ]
  },
  {
   "cell_type": "code",
   "execution_count": 167,
   "id": "60396b27-91a6-477b-9f86-9bdcba7c098b",
   "metadata": {},
   "outputs": [
    {
     "data": {
      "text/plain": [
       "False"
      ]
     },
     "execution_count": 167,
     "metadata": {},
     "output_type": "execute_result"
    }
   ],
   "source": [
    "10.0004 == 10.0006"
   ]
  },
  {
   "cell_type": "code",
   "execution_count": 169,
   "id": "c33b6fbc-1f79-406b-8847-774f2315143b",
   "metadata": {},
   "outputs": [
    {
     "data": {
      "text/plain": [
       "True"
      ]
     },
     "execution_count": 169,
     "metadata": {},
     "output_type": "execute_result"
    }
   ],
   "source": [
    "10 != 9"
   ]
  },
  {
   "cell_type": "markdown",
   "id": "d1f9b80f-266f-47cd-bdb0-d46df11705ac",
   "metadata": {},
   "source": [
    "#Boolean type is used to check weather the value is true or False"
   ]
  },
  {
   "cell_type": "markdown",
   "id": "44c989ed-382e-4bcd-8c23-fe61bbbbd08c",
   "metadata": {},
   "source": [
    "#None Type"
   ]
  },
  {
   "cell_type": "code",
   "execution_count": 174,
   "id": "77152493-ed17-481b-a2a8-885d9dee6f8a",
   "metadata": {},
   "outputs": [],
   "source": [
    "status = None"
   ]
  },
  {
   "cell_type": "code",
   "execution_count": 176,
   "id": "da7c10cb-8ea3-4661-b18a-78a227c0bb74",
   "metadata": {},
   "outputs": [
    {
     "name": "stdout",
     "output_type": "stream",
     "text": [
      "None\n"
     ]
    }
   ],
   "source": [
    "print(status)"
   ]
  },
  {
   "cell_type": "code",
   "execution_count": 178,
   "id": "7450f2e2-61b2-4574-bd58-cf47d5e66dbf",
   "metadata": {},
   "outputs": [
    {
     "data": {
      "text/plain": [
       "NoneType"
      ]
     },
     "execution_count": 178,
     "metadata": {},
     "output_type": "execute_result"
    }
   ],
   "source": [
    "type(status)"
   ]
  },
  {
   "cell_type": "markdown",
   "id": "ac8fb930-6c50-4625-8474-206bef3fed8e",
   "metadata": {},
   "source": [
    "#Opertors in Python"
   ]
  },
  {
   "cell_type": "markdown",
   "id": "65b4b4a2-c18e-4e2b-b816-9b88ad7de060",
   "metadata": {},
   "source": [
    "##1. Arithematic operation"
   ]
  },
  {
   "cell_type": "code",
   "execution_count": 186,
   "id": "b5b5a7da-6050-4ec0-97b0-b3fd2c391c80",
   "metadata": {},
   "outputs": [
    {
     "data": {
      "text/plain": [
       "8"
      ]
     },
     "execution_count": 186,
     "metadata": {},
     "output_type": "execute_result"
    }
   ],
   "source": [
    "5+3"
   ]
  },
  {
   "cell_type": "code",
   "execution_count": 188,
   "id": "2dac0c4a-d42d-4b55-ba13-3ee9faf58314",
   "metadata": {},
   "outputs": [
    {
     "data": {
      "text/plain": [
       "3"
      ]
     },
     "execution_count": 188,
     "metadata": {},
     "output_type": "execute_result"
    }
   ],
   "source": [
    "8-5"
   ]
  },
  {
   "cell_type": "code",
   "execution_count": 190,
   "id": "8518651d-2bae-4d39-b74b-2098abe67861",
   "metadata": {},
   "outputs": [
    {
     "data": {
      "text/plain": [
       "8.0"
      ]
     },
     "execution_count": 190,
     "metadata": {},
     "output_type": "execute_result"
    }
   ],
   "source": [
    "16/2"
   ]
  },
  {
   "cell_type": "code",
   "execution_count": 192,
   "id": "81b6e2c6-bc8f-40be-a75c-6e08d9943d57",
   "metadata": {},
   "outputs": [
    {
     "data": {
      "text/plain": [
       "8"
      ]
     },
     "execution_count": 192,
     "metadata": {},
     "output_type": "execute_result"
    }
   ],
   "source": [
    "4*2"
   ]
  },
  {
   "cell_type": "code",
   "execution_count": 261,
   "id": "59234148-97dd-4c77-9e98-b69febc19148",
   "metadata": {},
   "outputs": [
    {
     "name": "stdout",
     "output_type": "stream",
     "text": [
      "7\n",
      "1\n"
     ]
    }
   ],
   "source": [
    "#Modulos\n",
    "a = 7\n",
    "b = 9\n",
    "c = a%b\n",
    "print(c)\n",
    "a = 10\n",
    "b = 3\n",
    "c = a%b\n",
    "print(c)\n",
    "#Modulas is used to get the reminder when divide two numbers"
   ]
  },
  {
   "cell_type": "code",
   "execution_count": 196,
   "id": "08d56923-1434-48b2-a8a3-08ac129d4921",
   "metadata": {},
   "outputs": [
    {
     "name": "stdout",
     "output_type": "stream",
     "text": [
      "0.6\n",
      "0.6\n"
     ]
    }
   ],
   "source": [
    "a = 3\n",
    "b = 5\n",
    "c = a/b\n",
    "print(a/b) \n",
    "print(c)"
   ]
  },
  {
   "cell_type": "markdown",
   "id": "0affe7a2-6bde-437a-9ba8-7c9e28f45808",
   "metadata": {},
   "source": [
    "#Exponentaion"
   ]
  },
  {
   "cell_type": "code",
   "execution_count": 199,
   "id": "96f4756e-e9cd-451d-bd37-496d62758b15",
   "metadata": {},
   "outputs": [
    {
     "name": "stdout",
     "output_type": "stream",
     "text": [
      "256\n"
     ]
    }
   ],
   "source": [
    "a = 4\n",
    "b = 4\n",
    "c = a**b\n",
    "print(c)"
   ]
  },
  {
   "cell_type": "markdown",
   "id": "5cd09ad0-bab6-4853-b68f-2785830c4858",
   "metadata": {},
   "source": [
    "#Assignment operation"
   ]
  },
  {
   "cell_type": "code",
   "execution_count": 206,
   "id": "3302ffcc-0f39-406d-a486-af5511833b4e",
   "metadata": {},
   "outputs": [
    {
     "name": "stdout",
     "output_type": "stream",
     "text": [
      "10\n"
     ]
    }
   ],
   "source": [
    " #equals\n",
    "x = 10\n",
    "print(x)\n"
   ]
  },
  {
   "cell_type": "markdown",
   "id": "307be177-6f8a-4eb3-bb27-4b7943b98fdb",
   "metadata": {},
   "source": [
    "#Comparison"
   ]
  },
  {
   "cell_type": "code",
   "execution_count": 209,
   "id": "cb6d1826-cf96-4b97-ac41-f1fc5ba0c2ef",
   "metadata": {},
   "outputs": [
    {
     "data": {
      "text/plain": [
       "False"
      ]
     },
     "execution_count": 209,
     "metadata": {},
     "output_type": "execute_result"
    }
   ],
   "source": [
    "#Equals\n",
    "a = 5\n",
    "b = 8\n",
    "a == b"
   ]
  },
  {
   "cell_type": "code",
   "execution_count": 211,
   "id": "2d01d537-678e-4b93-a1ae-b5d7032a3eae",
   "metadata": {},
   "outputs": [
    {
     "data": {
      "text/plain": [
       "False"
      ]
     },
     "execution_count": 211,
     "metadata": {},
     "output_type": "execute_result"
    }
   ],
   "source": [
    "#Greator than or equal to \n",
    "a = 4\n",
    "b = 8\n",
    "a >= b"
   ]
  },
  {
   "cell_type": "markdown",
   "id": "4a0d5527-1b41-4312-abd0-e5d99a9a95a1",
   "metadata": {},
   "source": [
    "#Logical operation"
   ]
  },
  {
   "cell_type": "code",
   "execution_count": 216,
   "id": "87f2d1ce-e847-4e20-94a9-bf1354cdc758",
   "metadata": {},
   "outputs": [
    {
     "name": "stdout",
     "output_type": "stream",
     "text": [
      "True\n"
     ]
    }
   ],
   "source": [
    "# AND\n",
    "print(True and True)"
   ]
  },
  {
   "cell_type": "code",
   "execution_count": 218,
   "id": "6b0934ed-77cb-4227-92aa-ae55c14767ad",
   "metadata": {},
   "outputs": [
    {
     "name": "stdout",
     "output_type": "stream",
     "text": [
      "True\n"
     ]
    }
   ],
   "source": [
    "# OR\n",
    "print(True or False)"
   ]
  },
  {
   "cell_type": "code",
   "execution_count": 228,
   "id": "36c8740d-c6e9-4886-a707-a6325e958677",
   "metadata": {},
   "outputs": [
    {
     "name": "stdout",
     "output_type": "stream",
     "text": [
      "True\n"
     ]
    }
   ],
   "source": [
    "# NOT\n",
    "print(not False)"
   ]
  },
  {
   "cell_type": "markdown",
   "id": "bcd798d2-dd2c-4545-942b-7cceb5d115f9",
   "metadata": {},
   "source": [
    "#Membership operation"
   ]
  },
  {
   "cell_type": "code",
   "execution_count": 233,
   "id": "fc7e03c3-6841-4d2a-ad09-b326dceadb44",
   "metadata": {},
   "outputs": [
    {
     "name": "stdout",
     "output_type": "stream",
     "text": [
      "True\n"
     ]
    }
   ],
   "source": [
    "# IN\n",
    "print(1 in {1, 2, 3})"
   ]
  },
  {
   "cell_type": "code",
   "execution_count": 239,
   "id": "9c456c03-2950-4037-b8fe-eb5abb7d3bf9",
   "metadata": {},
   "outputs": [
    {
     "name": "stdout",
     "output_type": "stream",
     "text": [
      "False\n"
     ]
    }
   ],
   "source": [
    "#NOT IN\n",
    "print(1 not in {1, 2, 3})"
   ]
  },
  {
   "cell_type": "markdown",
   "id": "f37eb7f6-bc42-48f3-892f-0c92e362a3c0",
   "metadata": {},
   "source": [
    "#Identity Operation"
   ]
  },
  {
   "cell_type": "markdown",
   "id": "5ec02039-149a-4c1a-a391-98cd07ee121e",
   "metadata": {},
   "source": [
    "#Chcek if two variables refer to the same objectn in memory"
   ]
  },
  {
   "cell_type": "code",
   "execution_count": 274,
   "id": "1179a47e-1d44-4a40-b844-15827bd5d4fd",
   "metadata": {},
   "outputs": [
    {
     "name": "stdout",
     "output_type": "stream",
     "text": [
      "10\n",
      "10\n",
      "True\n",
      "False\n"
     ]
    }
   ],
   "source": [
    "#IS\n",
    "a = 10\n",
    "b = 10 \n",
    "print(a)\n",
    "print(b)\n",
    "print(a is b)\n",
    "a = 8\n",
    "b = 10\n",
    "print(a is b)"
   ]
  },
  {
   "cell_type": "code",
   "execution_count": 249,
   "id": "832bd5e9-20bc-4260-bc90-202b893c22d1",
   "metadata": {},
   "outputs": [
    {
     "name": "stdout",
     "output_type": "stream",
     "text": [
      "False\n"
     ]
    }
   ],
   "source": [
    "#IS NOT\n",
    "a = 10\n",
    "b = 10 \n",
    "print(a is not b)"
   ]
  },
  {
   "cell_type": "markdown",
   "id": "96447a01-e1fe-449b-9143-88faeb8fc515",
   "metadata": {},
   "source": [
    "#Q. Write a code whether a number in given variable x is odd?"
   ]
  },
  {
   "cell_type": "code",
   "execution_count": 254,
   "id": "31b29ce2-116c-4307-8bf9-bee70058ce55",
   "metadata": {},
   "outputs": [
    {
     "name": "stdout",
     "output_type": "stream",
     "text": [
      "False\n"
     ]
    }
   ],
   "source": [
    "X = 10\n",
    "print(x%2!=0)"
   ]
  },
  {
   "cell_type": "markdown",
   "id": "a65e8851-9989-4ca1-877b-cfbe70fd7531",
   "metadata": {},
   "source": [
    "#Q. Write a code whether a number in given variable x is odd and divisible by 9?"
   ]
  },
  {
   "cell_type": "code",
   "execution_count": 264,
   "id": "9ff2bdd7-81fe-443f-b17d-84ebe59f73e7",
   "metadata": {},
   "outputs": [
    {
     "name": "stdout",
     "output_type": "stream",
     "text": [
      "False\n"
     ]
    }
   ],
   "source": [
    "x = 11\n",
    "print(x%2!=0 and x%9 == 0)\n",
    "#!= is not equal to\n",
    "# == equal to"
   ]
  },
  {
   "cell_type": "markdown",
   "id": "3d7b978a-6e35-4422-a0c7-984766c93e93",
   "metadata": {},
   "source": [
    "#Write code to know if a given string has more than 10 characters?"
   ]
  },
  {
   "cell_type": "code",
   "execution_count": 269,
   "id": "bd7bb9d1-af49-474f-a0fd-48cab124e1bb",
   "metadata": {},
   "outputs": [
    {
     "name": "stdout",
     "output_type": "stream",
     "text": [
      "True\n"
     ]
    }
   ],
   "source": [
    "character = \"runamarathon\"\n",
    "print(len(character)>10)"
   ]
  },
  {
   "cell_type": "markdown",
   "id": "8489fc25-cd8e-4808-bb20-8c45fa2b7c1f",
   "metadata": {},
   "source": [
    "#Write code to know if a given string has less than 10 characters?"
   ]
  },
  {
   "cell_type": "code",
   "execution_count": 272,
   "id": "84746a2d-eeda-4a2c-bca9-0d7b75544ca6",
   "metadata": {},
   "outputs": [
    {
     "name": "stdout",
     "output_type": "stream",
     "text": [
      "False\n"
     ]
    }
   ],
   "source": [
    "character = \"runamarathon\"\n",
    "print(len(character)<10)"
   ]
  },
  {
   "cell_type": "markdown",
   "id": "24641ed5-b8f4-4962-a40f-8b22abd6262d",
   "metadata": {},
   "source": [
    "#Conditional Statement"
   ]
  },
  {
   "cell_type": "code",
   "execution_count": 287,
   "id": "420753e8-ba69-44ae-84b7-0999b150ef9f",
   "metadata": {},
   "outputs": [],
   "source": [
    "#IF\n",
    "##if conditional :\n",
    "    #code\n",
    "##else :\n",
    "     #code"
   ]
  },
  {
   "cell_type": "markdown",
   "id": "11593c0e-3120-4c6e-834f-628f461884fe",
   "metadata": {},
   "source": [
    "#Q. Write a code print whether value in a given variable x is even or odd?"
   ]
  },
  {
   "cell_type": "code",
   "execution_count": 290,
   "id": "b28a5581-7642-4e74-9adc-d889519d6629",
   "metadata": {},
   "outputs": [
    {
     "name": "stdout",
     "output_type": "stream",
     "text": [
      "odd\n"
     ]
    }
   ],
   "source": [
    "x = 835\n",
    "if (x%2!=0):\n",
    "    print(\"odd\")\n",
    "else:\n",
    "    print(\"even\")\n"
   ]
  },
  {
   "cell_type": "code",
   "execution_count": 306,
   "id": "5b83e782-f1ea-4c35-bcc4-28b840b5f646",
   "metadata": {},
   "outputs": [
    {
     "data": {
      "text/plain": [
       "'YMEDACA TCI'"
      ]
     },
     "execution_count": 306,
     "metadata": {},
     "output_type": "execute_result"
    }
   ],
   "source": [
    "y = \"ICT ACADEMY\"\n",
    "y[ : :-1]"
   ]
  },
  {
   "cell_type": "code",
   "execution_count": 308,
   "id": "f65683ae-520a-4f51-9bb9-0b02fb599dca",
   "metadata": {},
   "outputs": [
    {
     "data": {
      "text/plain": [
       "'IE'"
      ]
     },
     "execution_count": 308,
     "metadata": {},
     "output_type": "execute_result"
    }
   ],
   "source": [
    "y[0: :8]"
   ]
  },
  {
   "cell_type": "code",
   "execution_count": 310,
   "id": "216e4574-a90b-4c0d-9dee-68010b5dba49",
   "metadata": {},
   "outputs": [
    {
     "data": {
      "text/plain": [
       "'ICT ACADEM'"
      ]
     },
     "execution_count": 310,
     "metadata": {},
     "output_type": "execute_result"
    }
   ],
   "source": [
    "y[0:10]"
   ]
  },
  {
   "cell_type": "code",
   "execution_count": 312,
   "id": "d05f396b-7827-4bd2-ad49-e020ca3d8cf5",
   "metadata": {},
   "outputs": [
    {
     "data": {
      "text/plain": [
       "'ICT ACADEMY'"
      ]
     },
     "execution_count": 312,
     "metadata": {},
     "output_type": "execute_result"
    }
   ],
   "source": [
    "y[ : ]"
   ]
  },
  {
   "cell_type": "markdown",
   "id": "3ae43569-3b91-4796-bdad-ac2fb8f4d327",
   "metadata": {},
   "source": [
    "#Q. Write a code to check a given string is polindrome or not?"
   ]
  },
  {
   "cell_type": "code",
   "execution_count": 319,
   "id": "f0cd960c-a37e-4bb3-949e-083e5eb78fc2",
   "metadata": {},
   "outputs": [
    {
     "name": "stdout",
     "output_type": "stream",
     "text": [
      "it is palindrome\n"
     ]
    }
   ],
   "source": [
    "y = \"yey\"\n",
    "if (y[0:3]) == y:\n",
    "    print(\"it is palindrome\")\n",
    "else:\n",
    "    print(\"not palindrome\")\n",
    "    "
   ]
  },
  {
   "cell_type": "code",
   "execution_count": null,
   "id": "bfb66436-9b20-453d-8b2e-512a3996c497",
   "metadata": {},
   "outputs": [],
   "source": [
    "#Here why we add [0:3] is beacuse it need to come reverse to got the answer. like -1"
   ]
  }
 ],
 "metadata": {
  "kernelspec": {
   "display_name": "Python 3 (ipykernel)",
   "language": "python",
   "name": "python3"
  },
  "language_info": {
   "codemirror_mode": {
    "name": "ipython",
    "version": 3
   },
   "file_extension": ".py",
   "mimetype": "text/x-python",
   "name": "python",
   "nbconvert_exporter": "python",
   "pygments_lexer": "ipython3",
   "version": "3.12.7"
  }
 },
 "nbformat": 4,
 "nbformat_minor": 5
}
